{
 "cells": [
  {
   "cell_type": "code",
   "execution_count": null,
   "metadata": {},
   "outputs": [],
   "source": [
    "import pandas as pd\n",
    "import csv"
   ]
  },
  {
   "cell_type": "code",
   "execution_count": null,
   "metadata": {},
   "outputs": [],
   "source": [
    "#daftar file yang mau diopen\n",
    "listfile = [\n",
    "    'index.csv',\n",
    "]"
   ]
  },
  {
   "cell_type": "code",
   "execution_count": null,
   "metadata": {},
   "outputs": [],
   "source": [
    "#buka file\n",
    "#filenya berisi : folder, nama file, ukuran\n",
    "#data framenya ditambahi informasi file sumber (untuk membedakan lokasi file), ekstensi, dan tipe (image,sound,doc,zip,other)\n",
    "\n",
    "data = pd.DataFrame()\n",
    "\n",
    "for x in listfile:\n",
    "    print(\"opening file {}\".format(x))\n",
    "    df = pd.read_csv(x)\n",
    "    df.head()\n",
    "    data.append(df)"
   ]
  },
  {
   "cell_type": "code",
   "execution_count": null,
   "metadata": {},
   "outputs": [],
   "source": []
  }
 ],
 "metadata": {
  "kernelspec": {
   "display_name": "Python 2",
   "language": "python",
   "name": "python2"
  },
  "language_info": {
   "codemirror_mode": {
    "name": "ipython",
    "version": 2
   },
   "file_extension": ".py",
   "mimetype": "text/x-python",
   "name": "python",
   "nbconvert_exporter": "python",
   "pygments_lexer": "ipython2",
   "version": "2.7.12"
  }
 },
 "nbformat": 4,
 "nbformat_minor": 2
}
