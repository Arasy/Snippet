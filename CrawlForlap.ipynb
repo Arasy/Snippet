{
 "cells": [
  {
   "cell_type": "code",
   "execution_count": 1,
   "metadata": {},
   "outputs": [],
   "source": [
    "#data\n",
    "homeurl = 'https://forlap.ristekdikti.go.id/perguruantinggi/' \n",
    "url = 'https://forlap.ristekdikti.go.id/perguruantinggi/search'"
   ]
  },
  {
   "cell_type": "code",
   "execution_count": 2,
   "metadata": {},
   "outputs": [],
   "source": [
    "import requests\n",
    "from bs4 import BeautifulSoup as BS\n",
    "import pandas as pd"
   ]
  },
  {
   "cell_type": "code",
   "execution_count": 14,
   "metadata": {},
   "outputs": [
    {
     "name": "stdout",
     "output_type": "stream",
     "text": [
      "200\n"
     ]
    }
   ],
   "source": [
    "#baca pagenya dulu buat dapet session\n",
    "s = requests.session()\n",
    "r = s.get(homeurl)\n",
    "kode_koordinasi = '86942CDF-44F1-446E-8E9E-CB37BBBB16E6'\n",
    "\n",
    "n = r.text.find('Hitung')+len('Hitung')\n",
    "q = r.text[n:r.text.find('=',n)]\n",
    "kode_pengaman = eval(q)\n",
    "a,b = q.split('+')\n",
    "captcha_value_1 = int(a)\n",
    "captcha_value_2 = int(b)\n",
    "\n",
    "data = {'kode_koordinasi':kode_koordinasi,'kode_pengaman':kode_pengaman,'captcha_value_1':captcha_value_1,'captcha_value_2':captcha_value_2}\n",
    "r = s.post(url,data)\n",
    "\n",
    "print(r.status_code)"
   ]
  },
  {
   "cell_type": "code",
   "execution_count": 15,
   "metadata": {},
   "outputs": [],
   "source": [
    "#baca halaman hasilnya\n",
    "#url\n",
    "#url+'/20'\n",
    "page = s.get(url)\n",
    "\n",
    "n = '<div class=\"pagination\"><ul><li class=\"active\"><span>1</span></li><li><a href=\"https://forlap.ristekdikti.go.id/perguruantinggi/search/20\">2</a></li><li><a href=\"https://forlap.ristekdikti.go.id/perguruantinggi/search/'\n",
    "a = page.text.find(n)+len(n)\n",
    "b = page.text.find('\">&gt;&gt;')\n",
    "\n",
    "last = page.text[a:b]\n",
    "if()"
   ]
  },
  {
   "cell_type": "code",
   "execution_count": 23,
   "metadata": {},
   "outputs": [
    {
     "ename": "AttributeError",
     "evalue": "'str' object has no attribute 'is_int'",
     "output_type": "error",
     "traceback": [
      "\u001b[1;31m---------------------------------------------------------------------------\u001b[0m",
      "\u001b[1;31mAttributeError\u001b[0m                            Traceback (most recent call last)",
      "\u001b[1;32m<ipython-input-23-6746f5485a08>\u001b[0m in \u001b[0;36m<module>\u001b[1;34m\u001b[0m\n\u001b[1;32m----> 1\u001b[1;33m \u001b[0ma\u001b[0m\u001b[1;33m.\u001b[0m\u001b[0mis_int\u001b[0m\u001b[1;33m\u001b[0m\u001b[1;33m\u001b[0m\u001b[0m\n\u001b[0m",
      "\u001b[1;31mAttributeError\u001b[0m: 'str' object has no attribute 'is_int'"
     ]
    }
   ],
   "source": [
    "a.is_int"
   ]
  }
 ],
 "metadata": {
  "kernelspec": {
   "display_name": "Python 3",
   "language": "python",
   "name": "python3"
  },
  "language_info": {
   "codemirror_mode": {
    "name": "ipython",
    "version": 3
   },
   "file_extension": ".py",
   "mimetype": "text/x-python",
   "name": "python",
   "nbconvert_exporter": "python",
   "pygments_lexer": "ipython3",
   "version": "3.7.3"
  }
 },
 "nbformat": 4,
 "nbformat_minor": 2
}
